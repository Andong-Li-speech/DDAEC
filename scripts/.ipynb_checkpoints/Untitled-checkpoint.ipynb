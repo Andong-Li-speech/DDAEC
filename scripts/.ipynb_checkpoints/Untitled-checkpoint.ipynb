{
 "cells": [
  {
   "cell_type": "code",
   "execution_count": 2,
   "metadata": {},
   "outputs": [],
   "source": [
    "import numpy as np\n",
    "import glob\n",
    "import os\n",
    "import soundfile as sf\n",
    "import torch\n",
    "import torch.nn as nn\n",
    "from torch.nn.parameter import Parameter\n",
    "from torch.nn.utils.rnn import pad_packed_sequence\n",
    "import torch.nn.functional as F"
   ]
  },
  {
   "cell_type": "code",
   "execution_count": null,
   "metadata": {},
   "outputs": [],
   "source": [
    "def z3cprelu(x, name='z3cprelu'):\n",
    "    x_R, x_I = tf.split(x, 2, -1)\n",
    "    in_shape = x_R.get_shape().as_list()\n",
    "    with tf.variable_scope(name):\n",
    "        # make one alpha per feature\n",
    "        alpha1_R = tf.get_variable('alpha1_R', in_shape[-1],\n",
    "                                initializer=tf.constant_initializer(0.),\n",
    "                                dtype=tf.float32)\n",
    "        alpha1_I = tf.get_variable('alpha1_I', in_shape[-1],\n",
    "                                initializer=tf.constant_initializer(0.),\n",
    "                                dtype=tf.float32)\n",
    "        alpha2_R = tf.get_variable('alpha2_R', in_shape[-1],\n",
    "                                initializer=tf.constant_initializer(0.),\n",
    "                                dtype=tf.float32)\n",
    "        alpha2_I = tf.get_variable('alpha2_I', in_shape[-1],\n",
    "                                initializer=tf.constant_initializer(0.),\n",
    "                                dtype=tf.float32)\n",
    "        alpha3_R = tf.get_variable('alpha3_R', in_shape[-1],\n",
    "                                initializer=tf.constant_initializer(0.),\n",
    "                                dtype=tf.float32)\n",
    "        alpha3_I = tf.get_variable('alpha3_I', in_shape[-1],\n",
    "                                initializer=tf.constant_initializer(0.),\n",
    "                                dtype=tf.float32)\n",
    "                                \n",
    "        out1_R = (x_R*alpha1_R) - (x_I*alpha1_I)\n",
    "        out1_I = (x_R*alpha1_I) + (x_I*alpha1_R)\n",
    "        \n",
    "        out2_R = (x_R*alpha2_R) - (x_I*alpha2_I)\n",
    "        out2_I = (x_R*alpha2_I) + (x_I*alpha2_R)\n",
    "        \n",
    "        out3_R = (x_R*alpha3_R) - (x_I*alpha3_I)\n",
    "        out3_I = (x_R*alpha3_I) + (x_I*alpha3_R)\n",
    "        \n",
    "        cond1 = tf.logical_and(tf.greater(x_R, 0.), tf.greater(x_I, 0.))\n",
    "        cond2 = tf.logical_and(tf.less_equal(x_R, 0.), tf.greater(x_I, 0.))\n",
    "        cond3 = tf.logical_and(tf.less_equal(x_R, 0.), tf.less_equal(x_I, 0.))\n",
    "        cond4 = tf.logical_and(tf.greater(x_R, 0.), tf.less_equal(x_I, 0.))\n",
    "        zeros = tf.zeros_like(x_R)\n",
    "        \n",
    "        ans_R = tf.where(cond1, x_R, zeros)\n",
    "        ans_I = tf.where(cond1, x_I, zeros)\n",
    "        \n",
    "        ans_R += tf.where(cond2, out1_R, zeros)\n",
    "        ans_I += tf.where(cond2, out1_I, zeros)\n",
    "        \n",
    "        ans_R += tf.where(cond3, out2_R, zeros)\n",
    "        ans_I += tf.where(cond3, out2_I, zeros)\n",
    "        \n",
    "        ans_R += tf.where(cond4, out3_R, zeros)\n",
    "        ans_I += tf.where(cond4, out3_I, zeros)   \n",
    "    return tf.concat([ans_R, ans_I], -1)"
   ]
  },
  {
   "cell_type": "code",
   "execution_count": 25,
   "metadata": {},
   "outputs": [],
   "source": [
    "class Z3PReLU(nn.Module):\n",
    "    def __init__(self, num_features):\n",
    "        super(Z3PReLU, self).__init__()\n",
    "        self.num_features = num_features\n",
    "        self.alpha1_R = nn.Parameter(0.5*torch.zeros(num_features//2), requires_grad=True)\n",
    "        self.alpha1_I = nn.Parameter(torch.zeros(num_features//2), requires_grad=True)\n",
    "        \n",
    "        self.alpha2_R = nn.Parameter(0.5*torch.zeros(num_features//2), requires_grad=True)\n",
    "        self.alpha2_I = nn.Parameter(torch.zeros(num_features//2), requires_grad=True)\n",
    "        \n",
    "        self.alpha3_R = nn.Parameter(torch.zeros(num_features//2), requires_grad=True)\n",
    "        self.alpha3_I = nn.Parameter(torch.zeros(num_features//2), requires_grad=True)\n",
    "    def forward(self, x):\n",
    "        x = x.contiguous().permute(0, 2, 3, 1)\n",
    "        x_R, x_I = torch.chunk(x, 2, -1)\n",
    "        out1_R = (x_R*self.alpha1_R) - (x_I*self.alpha1_I)\n",
    "        out1_I = (x_R*self.alpha1_I) + (x_I*self.alpha1_R)\n",
    "        \n",
    "        out2_R = (x_R*self.alpha2_R) - (x_I*self.alpha2_I)\n",
    "        out2_I = (x_R*self.alpha2_I) + (x_I*self.alpha2_R)\n",
    "        \n",
    "        out3_R = (x_R*self.alpha3_R) - (x_I*self.alpha3_I)\n",
    "        out3_I = (x_R*self.alpha3_I) + (x_I*self.alpha3_R)\n",
    "        \n",
    "        cond1 = torch.gt(x_R, 0.) & torch.gt(x_I, 0.)\n",
    "        cond2 = torch.le(x_R, 0.) & torch.gt(x_I, 0.)\n",
    "        cond3 = torch.le(x_R, 0.) & torch.le(x_I, 0.)\n",
    "        cond4 = torch.gt(x_R, 0.) & torch.le(x_I, 0.)\n",
    "        zeros = torch.zeros_like(x_R)\n",
    "        \n",
    "        ans_R = torch.where(cond1, x_R, zeros)\n",
    "        ans_I = torch.where(cond1, x_I, zeros)\n",
    "        \n",
    "        ans_R += torch.where(cond2, out1_R, zeros)\n",
    "        ans_I += torch.where(cond2, out1_I, zeros)\n",
    "        \n",
    "        ans_R += torch.where(cond3, out2_R, zeros)\n",
    "        ans_I += torch.where(cond3, out2_I, zeros)\n",
    "        \n",
    "        ans_R += torch.where(cond4, out3_R, zeros)\n",
    "        ans_I += torch.where(cond4, out3_I, zeros) \n",
    "        \n",
    "        ans = torch.cat([ans_R, ans_I], -1)\n",
    "        ans = ans.contiguous().permute(0, 3, 1, 2)\n",
    "        return ans"
   ]
  },
  {
   "cell_type": "code",
   "execution_count": 26,
   "metadata": {},
   "outputs": [],
   "source": [
    "x = torch.gt(torch.zeros(4), 1.)\n",
    "y = torch.le(torch.ones(4), 2.)"
   ]
  },
  {
   "cell_type": "code",
   "execution_count": 36,
   "metadata": {},
   "outputs": [],
   "source": [
    "x = torch.cat([torch.ones(16, 8, 8, 4), -1*torch.ones(16, 8, 8, 4)], dim=1)"
   ]
  },
  {
   "cell_type": "code",
   "execution_count": 41,
   "metadata": {},
   "outputs": [],
   "source": [
    "nl = Z3PReLU(2)"
   ]
  },
  {
   "cell_type": "code",
   "execution_count": 49,
   "metadata": {},
   "outputs": [],
   "source": [
    "x = np.random.normal(0., 1., [1, 2, 4, 4])"
   ]
  },
  {
   "cell_type": "code",
   "execution_count": 50,
   "metadata": {},
   "outputs": [],
   "source": [
    "x = torch.from_numpy(x).float()"
   ]
  },
  {
   "cell_type": "code",
   "execution_count": 51,
   "metadata": {},
   "outputs": [
    {
     "data": {
      "text/plain": [
       "tensor([[[[0.0000, 0.0000, 0.0000, 1.9358],\n",
       "          [0.0000, 0.0000, 1.2548, 0.0000],\n",
       "          [0.0831, 0.0000, 0.0000, 0.0000],\n",
       "          [2.0417, 0.0000, 0.0000, 0.0000]],\n",
       "\n",
       "         [[0.0000, 0.0000, 0.0000, 1.7356],\n",
       "          [0.0000, 0.0000, 0.0049, 0.0000],\n",
       "          [1.0448, 0.0000, 0.0000, 0.0000],\n",
       "          [0.8518, 0.0000, 0.0000, 0.0000]]]], grad_fn=<PermuteBackward>)"
      ]
     },
     "execution_count": 51,
     "metadata": {},
     "output_type": "execute_result"
    }
   ],
   "source": [
    "nl(x)"
   ]
  },
  {
   "cell_type": "code",
   "execution_count": 52,
   "metadata": {},
   "outputs": [
    {
     "data": {
      "text/plain": [
       "tensor([[[[-1.1122, -0.2530, -1.5160,  1.9358],\n",
       "          [ 0.2022, -0.7168,  1.2548,  2.6191],\n",
       "          [ 0.0831, -0.5869, -0.7560, -0.1729],\n",
       "          [ 2.0417, -1.5679, -2.0188, -1.5051]],\n",
       "\n",
       "         [[-1.0841,  0.9348, -0.7147,  1.7356],\n",
       "          [-0.5666,  0.7544,  0.0049, -0.2964],\n",
       "          [ 1.0448, -1.6356, -0.8429, -0.4969],\n",
       "          [ 0.8518, -0.7840, -1.0005,  1.3122]]]])"
      ]
     },
     "execution_count": 52,
     "metadata": {},
     "output_type": "execute_result"
    }
   ],
   "source": [
    "x"
   ]
  },
  {
   "cell_type": "code",
   "execution_count": null,
   "metadata": {},
   "outputs": [],
   "source": []
  },
  {
   "cell_type": "code",
   "execution_count": null,
   "metadata": {},
   "outputs": [],
   "source": []
  },
  {
   "cell_type": "code",
   "execution_count": null,
   "metadata": {},
   "outputs": [],
   "source": []
  },
  {
   "cell_type": "code",
   "execution_count": null,
   "metadata": {},
   "outputs": [],
   "source": []
  },
  {
   "cell_type": "code",
   "execution_count": null,
   "metadata": {},
   "outputs": [],
   "source": []
  },
  {
   "cell_type": "code",
   "execution_count": null,
   "metadata": {},
   "outputs": [],
   "source": []
  },
  {
   "cell_type": "code",
   "execution_count": null,
   "metadata": {},
   "outputs": [],
   "source": []
  },
  {
   "cell_type": "code",
   "execution_count": null,
   "metadata": {},
   "outputs": [],
   "source": []
  },
  {
   "cell_type": "code",
   "execution_count": null,
   "metadata": {},
   "outputs": [],
   "source": []
  },
  {
   "cell_type": "code",
   "execution_count": null,
   "metadata": {},
   "outputs": [],
   "source": []
  },
  {
   "cell_type": "code",
   "execution_count": null,
   "metadata": {},
   "outputs": [],
   "source": []
  },
  {
   "cell_type": "code",
   "execution_count": null,
   "metadata": {},
   "outputs": [],
   "source": []
  },
  {
   "cell_type": "code",
   "execution_count": null,
   "metadata": {},
   "outputs": [],
   "source": []
  },
  {
   "cell_type": "code",
   "execution_count": null,
   "metadata": {},
   "outputs": [],
   "source": []
  }
 ],
 "metadata": {
  "kernelspec": {
   "display_name": "Python 2",
   "language": "python",
   "name": "python2"
  },
  "language_info": {
   "codemirror_mode": {
    "name": "ipython",
    "version": 2
   },
   "file_extension": ".py",
   "mimetype": "text/x-python",
   "name": "python",
   "nbconvert_exporter": "python",
   "pygments_lexer": "ipython2",
   "version": "2.7.15"
  }
 },
 "nbformat": 4,
 "nbformat_minor": 2
}
